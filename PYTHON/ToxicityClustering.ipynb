{
 "cells": [
  {
   "cell_type": "code",
   "execution_count": 48,
   "metadata": {},
   "outputs": [],
   "source": [
    "from numpy.random import seed\n",
    "seed(1)\n",
    "import numpy as np\n",
    "import pandas as pd\n",
    "import matplotlib.pyplot as plt\n",
    "from analysis import *\n",
    "from collections import namedtuple\n",
    "import Metrics\n",
    "from PatientSet import PatientSet\n",
    "from Constants import Constants\n",
    "from dependencies.Boruta import BorutaPy\n",
    "\n",
    "#for getting the fisher exact test\n",
    "import rpy2.robjects.numpy2ri\n",
    "from rpy2.robjects.packages import importr\n",
    "rpy2.robjects.numpy2ri.activate()\n",
    "\n",
    "#sklearn dependencies\n",
    "from sklearn.preprocessing import MinMaxScaler\n",
    "from sklearn.metrics import recall_score, roc_auc_score, f1_score\n",
    "from sklearn.ensemble import ExtraTreesClassifier, RandomForestClassifier\n",
    "from sklearn.utils import resample\n",
    "from scipy.cluster.hierarchy import fcluster, linkage\n",
    "\n",
    "#we get like a million deprication errors for some reason with the external libraries\n",
    "import warnings\n",
    "warnings.filterwarnings(\"ignore\", category=DeprecationWarning)"
   ]
  },
  {
   "cell_type": "code",
   "execution_count": 64,
   "metadata": {},
   "outputs": [],
   "source": [
    "#class wrapper with for heirarchical clustering with more linkages than sklearn\n",
    "class FClusterer():\n",
    "    \n",
    "    def __init__(self, n_clusters, dist_func = l1, link = 'weighted', criterion = 'maxclust'):\n",
    "        self.link = link\n",
    "        self.dist_func = dist_func if link not in ['median', 'ward', 'centroid'] else 'euclidean'\n",
    "        self.t = n_clusters\n",
    "        self.criterion = criterion\n",
    "\n",
    "    def fit_predict(self, x, y = None):\n",
    "        clusters = linkage(x, method = self.link, metric = self.dist_func)\n",
    "        return fcluster(clusters, self.t, criterion = self.criterion)\n",
    "\n",
    "def l1(x1, x2):\n",
    "    return np.sum(np.abs(x1-x2))\n",
    "\n",
    "def tanimoto_dist(x1, x2):\n",
    "    if l1(x1 - x2) == 0:\n",
    "        return 0\n",
    "    tanimoto = x1.dot(x2)/(x1.dot(x1) + x2.dot(x2) - x1.dot(x2))\n",
    "    return 1/(1+tanimoto)\n",
    "\n",
    "def l2(x1, x2):\n",
    "    return np.sqrt(np.sum((x1-x2)**2))\n",
    "\n",
    "def pdist(x, dist_func):\n",
    "    distance = []\n",
    "    for i in range(x.shape[0]):\n",
    "        for j in range(x.shape[0]):\n",
    "            distance.append(dist_func(x[i], x[j]))\n",
    "    return np.array(distance)\n",
    "    "
   ]
  },
  {
   "cell_type": "code",
   "execution_count": 65,
   "metadata": {},
   "outputs": [],
   "source": [
    "cluster_result = namedtuple('cluster_result', ['method', 'cluster', 'correlation', 'model'])\n",
    "\n",
    "def get_clusterers(ks = [2,5]):\n",
    "    c_range = range(ks[0], ks[1])\n",
    "    clusterers = {}\n",
    "    clusterers['l1_weighted'] = [FClusterer(c) for c in c_range]\n",
    "    clusterers['l2_weighted'] = [FClusterer(c, dist_func = l2) for c in c_range]\n",
    "    clusterers['l1_complete'] = [FClusterer(c, link = 'complete') for c in c_range]\n",
    "    clusterers['l2_complete'] = [FClusterer(c, dist_func = l2, link = 'complete') for c in c_range]\n",
    "    clusterers['centroid'] = [FClusterer(c, link='centroid') for c in c_range]\n",
    "    clusterers['median'] = [FClusterer(c, link = 'median') for c in c_range]\n",
    "    clusterers['ward'] = [FClusterer(c, link='ward') for c in c_range]\n",
    "    return clusterers\n",
    "\n",
    "def fisher_exact_test(c_labels, y):\n",
    "    if len(set(y)) == 1:\n",
    "        print('fisher test run with no positive class')\n",
    "        return 0\n",
    "#        assert(len(set(y)) == 2)\n",
    "    #call fishers test from r\n",
    "    contingency = get_contingency_table(c_labels, y)\n",
    "    stats = importr('stats')\n",
    "    pval = stats.fisher_test(contingency)[0][0]\n",
    "    return pval\n",
    "\n",
    "def get_contingency_table(x, y):\n",
    "    #assumes x and y are two equal length vectors, creates a mxn contigency table from them\n",
    "    cols = sorted(list(np.unique(y)))\n",
    "    rows = sorted(list(np.unique(x)))\n",
    "    tabel = np.zeros((len(rows), len(cols)))\n",
    "    for row_index in range(len(rows)):\n",
    "        row_var = rows[row_index]\n",
    "        for col_index in range(len(cols)):\n",
    "            rowset = set(np.argwhere(x == row_var).ravel())\n",
    "            colset = set(np.argwhere(y == cols[col_index]).ravel())\n",
    "            tabel[row_index, col_index] = len(rowset & colset)\n",
    "    return tabel\n",
    "\n",
    "def analyze_clusters(target_var, name, clusterer, features):\n",
    "    result = []\n",
    "    clusters = clusterer.fit_predict(features).ravel()\n",
    "    n_clusters = len(set(clusters))\n",
    "    if n_clusters < 2:\n",
    "        return None\n",
    "    method = name + str(n_clusters)\n",
    "\n",
    "    overall_correlation = fisher_exact_test(clusters, target_var)\n",
    "    result.append( cluster_result(method, 'all',\n",
    "                                  overall_correlation,\n",
    "                                  clusterer))\n",
    "\n",
    "    for c in np.unique(clusters):\n",
    "        correlation = fisher_exact_test(clusters == c, target_var)\n",
    "        result.append( cluster_result(method, str(c+1),\n",
    "                                      correlation, clusterer))\n",
    "    return result\n",
    "\n",
    "def cluster(target_var, features, args = None):\n",
    "    if args is not None:\n",
    "        assert( isinstance(args, list) )\n",
    "        features = features[:, args]\n",
    "    results = []\n",
    "    clusterers = get_clusterers()\n",
    "    for cname, clusterers in clusterers.items():\n",
    "        for clusterer in clusterers:\n",
    "            analysis = analyze_clusters(target_var, cname, clusterer, features)\n",
    "            if analysis is not None:\n",
    "                results.extend(analysis)\n",
    "    results = sorted(results, key = lambda x: x.correlation)\n",
    "    return results\n",
    "\n",
    "def get_optimal_clustering(features, target_var, args = None, patient_subset = None):\n",
    "    clusters = np.zeros(target_var.shape)\n",
    "    if patient_subset is not None:\n",
    "        target = target_var[patient_subset]\n",
    "        features = features[patient_subset,:]\n",
    "    else:\n",
    "        target = target_var\n",
    "    result = cluster(target, features, args)\n",
    "    result = [r for r in result if r.cluster is 'all']\n",
    "    if args is not None:\n",
    "        features = features[:, args]\n",
    "    clusters[patient_subset] = result[0].model.fit_predict(features).ravel() + 1\n",
    "    pval = fisher_exact_test(clusters, target_var)\n",
    "    clusterer_data = cluster_result(method = result[0].method,\n",
    "                                    cluster = result[0].cluster,\n",
    "                                    correlation = pval,\n",
    "                                    model = result[0].model)\n",
    "    optimal = (clusters, clusterer_data)\n",
    "    return optimal\n"
   ]
  },
  {
   "cell_type": "code",
   "execution_count": 66,
   "metadata": {
    "scrolled": true
   },
   "outputs": [
    {
     "name": "stdout",
     "output_type": "stream",
     "text": [
      "Index(['ROI', 'Age at Diagnosis (Calculated)', 'Pathological Grade', 'Gender',\n",
      "       'Race', 'Therapeutic combination', 'Tm Laterality (R/L)',\n",
      "       'Tumor subsite (BOT/Tonsil/Soft Palate/Pharyngeal wall/GPS/NOS)',\n",
      "       'Affected Lymph node', 'Affected Lymph node cleaned', 'N-category',\n",
      "       'HPV/P16 status', 'T-category', 'AJCC 7th edition', 'AJCC 8th edition',\n",
      "       'Smoking status at Diagnosis (Never/Former/Current)',\n",
      "       'Smoking status (Packs/Year)', 'Neck boost (Y/N)', 'Total dose',\n",
      "       'Total fractions', 'Feeding tube 6m', 'Aspiration rate Pre-therapy',\n",
      "       'Aspiration rate Post-therapy', 'Aspiration rate(Y/N)'],\n",
      "      dtype='object')\n"
     ]
    },
    {
     "name": "stderr",
     "output_type": "stream",
     "text": [
      "D:\\git_repos\\CAMP-RT\\PYTHON\\Patient.py:359: RuntimeWarning: invalid value encountered in true_divide\n",
      "  mean_tumor_distances /= tumor_volume\n",
      "D:\\git_repos\\CAMP-RT\\PYTHON\\Patient.py:360: RuntimeWarning: invalid value encountered in true_divide\n",
      "  tumor_position /= tumor_volume\n"
     ]
    },
    {
     "name": "stdout",
     "output_type": "stream",
     "text": [
      "100 [{0, 1}, {2}]\n",
      "128 [{0}, {1, 2, 3, 4}]\n",
      "notation not accounted for in lymph nodes: R3/R4\n",
      "notation not accounted for in lymph nodes: L2/3\n",
      "notation not accounted for in lymph nodes: R3/4\n",
      "notation not accounted for in lymph nodes: R2/3\n",
      "notation not accounted for in lymph nodes: R2-R4\n",
      "notation not accounted for in lymph nodes: L2/3\n",
      "notation not accounted for in lymph nodes: L2/3\n",
      "notation not accounted for in lymph nodes: L2/3\n",
      "notation not accounted for in lymph nodes: R2/3\n",
      "notation not accounted for in lymph nodes: R2/3/4\n",
      "notation not accounted for in lymph nodes: L2/3\n",
      "notation not accounted for in lymph nodes: L2/3\n",
      "notation not accounted for in lymph nodes: R2/3\n",
      "notation not accounted for in lymph nodes: R2/3\n",
      "notation not accounted for in lymph nodes: R2/3\n",
      "10021 [{0, 1}, {2}]\n",
      "10074 [{0, 1}, {2}]\n",
      "error reading tumor volume for  10091\n",
      "error reading tumor volume for  10148\n",
      "10191 [{0, 1}, {2}]\n",
      "\n",
      "patient data loaded...\n",
      "\n"
     ]
    }
   ],
   "source": [
    "#load in the patientset object that has all the patient info\n",
    "db = PatientSet()\n",
    "\n",
    "#add a bunch of features to the object that we'll want to try\n",
    "#so we can use the db.to_dataframe function to get them all in a nice dataframe with one-hot encoding and labels automatically\n",
    "db.discrete_dists = Metrics.discretize(-db.tumor_distances, n_bins = 15, strategy='uniform')\n",
    "db.t_volumes = np.array([np.sum([g.volume for g in gtvs]) for gtvs in db.gtvs]).reshape(-1,1)\n",
    "db.tsimdoses = tsim_prediction(db)\n",
    "db.toxicity = db.feeding_tubes + db.aspiration > 0\n",
    "db.xerostima = db.feeding_tubes + db.aspiration > 1"
   ]
  },
  {
   "cell_type": "code",
   "execution_count": 67,
   "metadata": {},
   "outputs": [],
   "source": [
    "#parameters for the experiments\n",
    "toxicities_to_test = ['feeding_tubes', 'aspiration', 'toxicity', 'xerostima']\n",
    "\n",
    "#features to test the feature selection on.  should be fields in the patientset we have\n",
    "candidate_features = ['discrete_dists', 'volumes', 't_volumes', 'lateralities']\n",
    "\n",
    "#number of times to resample and doing feature selection\n",
    "n_samples = 10\n",
    "\n",
    "#type of scaling to use\n",
    "scaler = MinMaxScaler()\n",
    "\n",
    "#put some bounds on the features to subset\n",
    "min_features = 2\n",
    "\n",
    "#class used to subset the data, default is what the original paper suggests, roughly\n",
    "boruta = BorutaPy(RandomForestClassifier(n_estimators = 300, max_depth = 10), n_estimators = 400)\n",
    "\n",
    "#where to save results, put None if you don't want to save\n",
    "save_root = 'data/clustering_results/'"
   ]
  },
  {
   "cell_type": "code",
   "execution_count": 68,
   "metadata": {},
   "outputs": [
    {
     "name": "stdout",
     "output_type": "stream",
     "text": [
      "feeding_tubes\n"
     ]
    },
    {
     "name": "stderr",
     "output_type": "stream",
     "text": [
      "C:\\ProgramData\\Anaconda3\\lib\\site-packages\\numpy\\core\\fromnumeric.py:56: FutureWarning: Series.nonzero() is deprecated and will be removed in a future version.Use Series.to_numpy().nonzero() instead\n",
      "  return getattr(obj, method)(*args, **kwds)\n"
     ]
    },
    {
     "name": "stdout",
     "output_type": "stream",
     "text": [
      "number of features:  43\n",
      "l1_weighted3\n",
      "[[140.   9.]\n",
      " [  1.   1.]\n",
      " [ 37.  12.]]\n",
      "correlation:  0.0003217945067118481 \n",
      "\n",
      "number of features:  26\n"
     ]
    },
    {
     "name": "stderr",
     "output_type": "stream",
     "text": [
      "C:\\ProgramData\\Anaconda3\\lib\\site-packages\\numpy\\core\\fromnumeric.py:56: FutureWarning: Series.nonzero() is deprecated and will be removed in a future version.Use Series.to_numpy().nonzero() instead\n",
      "  return getattr(obj, method)(*args, **kwds)\n"
     ]
    },
    {
     "name": "stdout",
     "output_type": "stream",
     "text": [
      "l1_complete2\n",
      "[[ 32.  12.]\n",
      " [146.  10.]]\n",
      "correlation:  0.0003916572707262409 \n",
      "\n",
      "number of features:  18\n"
     ]
    },
    {
     "name": "stderr",
     "output_type": "stream",
     "text": [
      "C:\\ProgramData\\Anaconda3\\lib\\site-packages\\numpy\\core\\fromnumeric.py:56: FutureWarning: Series.nonzero() is deprecated and will be removed in a future version.Use Series.to_numpy().nonzero() instead\n",
      "  return getattr(obj, method)(*args, **kwds)\n"
     ]
    },
    {
     "name": "stdout",
     "output_type": "stream",
     "text": [
      "l2_complete2\n",
      "[[ 30.  11.]\n",
      " [148.  11.]]\n",
      "correlation:  0.0009855956226715876 \n",
      "\n",
      "number of features:  10\n"
     ]
    },
    {
     "name": "stderr",
     "output_type": "stream",
     "text": [
      "C:\\ProgramData\\Anaconda3\\lib\\site-packages\\numpy\\core\\fromnumeric.py:56: FutureWarning: Series.nonzero() is deprecated and will be removed in a future version.Use Series.to_numpy().nonzero() instead\n",
      "  return getattr(obj, method)(*args, **kwds)\n"
     ]
    },
    {
     "name": "stdout",
     "output_type": "stream",
     "text": [
      "l1_weighted4\n",
      "[[ 28.   9.]\n",
      " [  0.   3.]\n",
      " [ 38.   0.]\n",
      " [112.  10.]]\n",
      "correlation:  5.626061449086981e-06 \n",
      "\n",
      "number of features:  6\n"
     ]
    },
    {
     "name": "stderr",
     "output_type": "stream",
     "text": [
      "C:\\ProgramData\\Anaconda3\\lib\\site-packages\\numpy\\core\\fromnumeric.py:56: FutureWarning: Series.nonzero() is deprecated and will be removed in a future version.Use Series.to_numpy().nonzero() instead\n",
      "  return getattr(obj, method)(*args, **kwds)\n"
     ]
    },
    {
     "name": "stdout",
     "output_type": "stream",
     "text": [
      "l1_complete4\n",
      "[[ 35.   2.]\n",
      " [114.   7.]\n",
      " [  0.   2.]\n",
      " [ 29.  11.]]\n",
      "correlation:  2.015018807384979e-05 \n",
      "\n",
      "number of features:  4\n"
     ]
    },
    {
     "name": "stderr",
     "output_type": "stream",
     "text": [
      "C:\\ProgramData\\Anaconda3\\lib\\site-packages\\numpy\\core\\fromnumeric.py:56: FutureWarning: Series.nonzero() is deprecated and will be removed in a future version.Use Series.to_numpy().nonzero() instead\n",
      "  return getattr(obj, method)(*args, **kwds)\n"
     ]
    },
    {
     "name": "stdout",
     "output_type": "stream",
     "text": [
      "l2_complete3\n",
      "[[133.   9.]\n",
      " [ 45.  12.]\n",
      " [  0.   1.]]\n",
      "correlation:  0.0007348280618609464 \n",
      "\n",
      "Index(['Lt_Submandibular_Gland_discrete_dists', 'Brainstem_volumes',\n",
      "       'Larynx_volumes', 'Rt_Masseter_M_volumes', 'Lt_Masseter_M_volumes',\n",
      "       't_volumes_0', 'SPC_tsimdoses', 'Rt_Submandibular_Gland_tsimdoses',\n",
      "       'Genioglossus_M_tsimdoses', 'Extended_Oral_Cavity_tsimdoses',\n",
      "       'cluster_labels'],\n",
      "      dtype='object')\n",
      "aspiration\n"
     ]
    },
    {
     "name": "stderr",
     "output_type": "stream",
     "text": [
      "C:\\ProgramData\\Anaconda3\\lib\\site-packages\\numpy\\core\\fromnumeric.py:56: FutureWarning: Series.nonzero() is deprecated and will be removed in a future version.Use Series.to_numpy().nonzero() instead\n",
      "  return getattr(obj, method)(*args, **kwds)\n",
      "C:\\ProgramData\\Anaconda3\\lib\\site-packages\\numpy\\core\\fromnumeric.py:56: FutureWarning: Series.nonzero() is deprecated and will be removed in a future version.Use Series.to_numpy().nonzero() instead\n",
      "  return getattr(obj, method)(*args, **kwds)\n"
     ]
    },
    {
     "name": "stdout",
     "output_type": "stream",
     "text": [
      "number of features:  37\n",
      "l2_complete2\n",
      "[[ 40.  15.]\n",
      " [141.   4.]]\n",
      "correlation:  1.2662065975780229e-06 \n",
      "\n",
      "number of features:  23\n"
     ]
    },
    {
     "name": "stderr",
     "output_type": "stream",
     "text": [
      "C:\\ProgramData\\Anaconda3\\lib\\site-packages\\numpy\\core\\fromnumeric.py:56: FutureWarning: Series.nonzero() is deprecated and will be removed in a future version.Use Series.to_numpy().nonzero() instead\n",
      "  return getattr(obj, method)(*args, **kwds)\n"
     ]
    },
    {
     "name": "stdout",
     "output_type": "stream",
     "text": [
      "ward4\n",
      "[[28. 11.]\n",
      " [65.  2.]\n",
      " [38.  6.]\n",
      " [50.  0.]]\n",
      "correlation:  7.125915470939396e-06 \n",
      "\n",
      "number of features:  18\n"
     ]
    },
    {
     "name": "stderr",
     "output_type": "stream",
     "text": [
      "C:\\ProgramData\\Anaconda3\\lib\\site-packages\\numpy\\core\\fromnumeric.py:56: FutureWarning: Series.nonzero() is deprecated and will be removed in a future version.Use Series.to_numpy().nonzero() instead\n",
      "  return getattr(obj, method)(*args, **kwds)\n"
     ]
    },
    {
     "name": "stdout",
     "output_type": "stream",
     "text": [
      "l1_complete3\n",
      "[[ 23.  11.]\n",
      " [ 43.   0.]\n",
      " [115.   8.]]\n",
      "correlation:  1.2961055591089437e-05 \n",
      "\n",
      "number of features:  12\n"
     ]
    },
    {
     "name": "stderr",
     "output_type": "stream",
     "text": [
      "C:\\ProgramData\\Anaconda3\\lib\\site-packages\\numpy\\core\\fromnumeric.py:56: FutureWarning: Series.nonzero() is deprecated and will be removed in a future version.Use Series.to_numpy().nonzero() instead\n",
      "  return getattr(obj, method)(*args, **kwds)\n"
     ]
    },
    {
     "name": "stdout",
     "output_type": "stream",
     "text": [
      "l1_weighted4\n",
      "[[153.   9.]\n",
      " [ 11.   9.]\n",
      " [ 16.   1.]\n",
      " [  1.   0.]]\n",
      "correlation:  2.5363129934610547e-05 \n",
      "\n",
      "number of features:  11\n"
     ]
    },
    {
     "name": "stderr",
     "output_type": "stream",
     "text": [
      "C:\\ProgramData\\Anaconda3\\lib\\site-packages\\numpy\\core\\fromnumeric.py:56: FutureWarning: Series.nonzero() is deprecated and will be removed in a future version.Use Series.to_numpy().nonzero() instead\n",
      "  return getattr(obj, method)(*args, **kwds)\n"
     ]
    },
    {
     "name": "stdout",
     "output_type": "stream",
     "text": [
      "l2_weighted3\n",
      "[[99.  2.]\n",
      " [70.  8.]\n",
      " [12.  9.]]\n",
      "correlation:  1.9656462494616247e-06 \n",
      "\n",
      "number of features:  10\n"
     ]
    },
    {
     "name": "stderr",
     "output_type": "stream",
     "text": [
      "C:\\ProgramData\\Anaconda3\\lib\\site-packages\\numpy\\core\\fromnumeric.py:56: FutureWarning: Series.nonzero() is deprecated and will be removed in a future version.Use Series.to_numpy().nonzero() instead\n",
      "  return getattr(obj, method)(*args, **kwds)\n"
     ]
    },
    {
     "name": "stdout",
     "output_type": "stream",
     "text": [
      "l2_complete4\n",
      "[[18.  9.]\n",
      " [38.  7.]\n",
      " [43.  3.]\n",
      " [82.  0.]]\n",
      "correlation:  8.09442282937395e-07 \n",
      "\n",
      "Index(['SPC_discrete_dists', 'Cricoid_cartilage_volumes', 'Brainstem_volumes',\n",
      "       'Cricopharyngeal_Muscle_tsimdoses', 'Rt_thyroid_lobe_tsimdoses',\n",
      "       'Cricoid_cartilage_tsimdoses', 'Brainstem_tsimdoses',\n",
      "       'Larynx_tsimdoses', 'Thyroid_cartilage_tsimdoses',\n",
      "       'Soft_Palate_tsimdoses', 'cluster_labels'],\n",
      "      dtype='object')\n",
      "toxicity\n"
     ]
    },
    {
     "name": "stderr",
     "output_type": "stream",
     "text": [
      "C:\\ProgramData\\Anaconda3\\lib\\site-packages\\numpy\\core\\fromnumeric.py:56: FutureWarning: Series.nonzero() is deprecated and will be removed in a future version.Use Series.to_numpy().nonzero() instead\n",
      "  return getattr(obj, method)(*args, **kwds)\n",
      "C:\\ProgramData\\Anaconda3\\lib\\site-packages\\numpy\\core\\fromnumeric.py:56: FutureWarning: Series.nonzero() is deprecated and will be removed in a future version.Use Series.to_numpy().nonzero() instead\n",
      "  return getattr(obj, method)(*args, **kwds)\n"
     ]
    },
    {
     "name": "stdout",
     "output_type": "stream",
     "text": [
      "number of features:  55\n",
      "l2_weighted3\n",
      "[[132.  11.]\n",
      " [ 34.  22.]\n",
      " [  0.   1.]]\n",
      "correlation:  8.240579421581145e-08 \n",
      "\n",
      "number of features:  37\n"
     ]
    },
    {
     "name": "stderr",
     "output_type": "stream",
     "text": [
      "C:\\ProgramData\\Anaconda3\\lib\\site-packages\\numpy\\core\\fromnumeric.py:56: FutureWarning: Series.nonzero() is deprecated and will be removed in a future version.Use Series.to_numpy().nonzero() instead\n",
      "  return getattr(obj, method)(*args, **kwds)\n"
     ]
    },
    {
     "name": "stdout",
     "output_type": "stream",
     "text": [
      "l2_complete2\n",
      "[[ 36.  25.]\n",
      " [130.   9.]]\n",
      "correlation:  1.3401768922443206e-08 \n",
      "\n",
      "number of features:  28\n"
     ]
    },
    {
     "name": "stderr",
     "output_type": "stream",
     "text": [
      "C:\\ProgramData\\Anaconda3\\lib\\site-packages\\numpy\\core\\fromnumeric.py:56: FutureWarning: Series.nonzero() is deprecated and will be removed in a future version.Use Series.to_numpy().nonzero() instead\n",
      "  return getattr(obj, method)(*args, **kwds)\n"
     ]
    },
    {
     "name": "stdout",
     "output_type": "stream",
     "text": [
      "ward2\n",
      "[[ 25.  23.]\n",
      " [141.  11.]]\n",
      "correlation:  1.961974542280713e-09 \n",
      "\n",
      "number of features:  19\n"
     ]
    },
    {
     "name": "stderr",
     "output_type": "stream",
     "text": [
      "C:\\ProgramData\\Anaconda3\\lib\\site-packages\\numpy\\core\\fromnumeric.py:56: FutureWarning: Series.nonzero() is deprecated and will be removed in a future version.Use Series.to_numpy().nonzero() instead\n",
      "  return getattr(obj, method)(*args, **kwds)\n"
     ]
    },
    {
     "name": "stdout",
     "output_type": "stream",
     "text": [
      "l1_weighted2\n",
      "[[ 24.  21.]\n",
      " [142.  13.]]\n",
      "correlation:  4.021399663976596e-08 \n",
      "\n",
      "number of features:  15\n"
     ]
    },
    {
     "name": "stderr",
     "output_type": "stream",
     "text": [
      "C:\\ProgramData\\Anaconda3\\lib\\site-packages\\numpy\\core\\fromnumeric.py:56: FutureWarning: Series.nonzero() is deprecated and will be removed in a future version.Use Series.to_numpy().nonzero() instead\n",
      "  return getattr(obj, method)(*args, **kwds)\n"
     ]
    },
    {
     "name": "stdout",
     "output_type": "stream",
     "text": [
      "ward2\n",
      "[[ 29.  25.]\n",
      " [137.   9.]]\n",
      "correlation:  3.947782206362179e-10 \n",
      "\n",
      "number of features:  10\n"
     ]
    },
    {
     "name": "stderr",
     "output_type": "stream",
     "text": [
      "C:\\ProgramData\\Anaconda3\\lib\\site-packages\\numpy\\core\\fromnumeric.py:56: FutureWarning: Series.nonzero() is deprecated and will be removed in a future version.Use Series.to_numpy().nonzero() instead\n",
      "  return getattr(obj, method)(*args, **kwds)\n"
     ]
    },
    {
     "name": "stdout",
     "output_type": "stream",
     "text": [
      "l2_weighted2\n",
      "[[ 29.  23.]\n",
      " [137.  11.]]\n",
      "correlation:  1.6784122362814088e-08 \n",
      "\n",
      "number of features:  3\n"
     ]
    },
    {
     "name": "stderr",
     "output_type": "stream",
     "text": [
      "C:\\ProgramData\\Anaconda3\\lib\\site-packages\\numpy\\core\\fromnumeric.py:56: FutureWarning: Series.nonzero() is deprecated and will be removed in a future version.Use Series.to_numpy().nonzero() instead\n",
      "  return getattr(obj, method)(*args, **kwds)\n"
     ]
    },
    {
     "name": "stdout",
     "output_type": "stream",
     "text": [
      "l2_complete2\n",
      "[[ 26.  22.]\n",
      " [140.  12.]]\n",
      "correlation:  2.073294569077749e-08 \n",
      "\n",
      "Index(['Lt_Brachial_Plexus_volumes', 'Brainstem_volumes',\n",
      "       'Rt_Sternocleidomastoid_M_volumes', 'Lt_Masseter_M_volumes',\n",
      "       't_volumes_0', 'MPC_tsimdoses', 'Lt_Submandibular_Gland_tsimdoses',\n",
      "       'SPC_tsimdoses', 'Rt_Submandibular_Gland_tsimdoses',\n",
      "       'Hyoid_bone_tsimdoses', 'Soft_Palate_tsimdoses',\n",
      "       'Genioglossus_M_tsimdoses', 'Tongue_tsimdoses',\n",
      "       'Extended_Oral_Cavity_tsimdoses', 'Mandible_tsimdoses',\n",
      "       'cluster_labels'],\n",
      "      dtype='object')\n",
      "xerostima\n"
     ]
    },
    {
     "name": "stderr",
     "output_type": "stream",
     "text": [
      "C:\\ProgramData\\Anaconda3\\lib\\site-packages\\numpy\\core\\fromnumeric.py:56: FutureWarning: Series.nonzero() is deprecated and will be removed in a future version.Use Series.to_numpy().nonzero() instead\n",
      "  return getattr(obj, method)(*args, **kwds)\n",
      "C:\\ProgramData\\Anaconda3\\lib\\site-packages\\numpy\\core\\fromnumeric.py:56: FutureWarning: Series.nonzero() is deprecated and will be removed in a future version.Use Series.to_numpy().nonzero() instead\n",
      "  return getattr(obj, method)(*args, **kwds)\n"
     ]
    },
    {
     "name": "stdout",
     "output_type": "stream",
     "text": [
      "number of features:  15\n",
      "ward4\n",
      "[[36.  4.]\n",
      " [43.  0.]\n",
      " [42.  3.]\n",
      " [72.  0.]]\n",
      "correlation:  0.005627597244060792 \n",
      "\n",
      "number of features:  9\n"
     ]
    },
    {
     "name": "stderr",
     "output_type": "stream",
     "text": [
      "C:\\ProgramData\\Anaconda3\\lib\\site-packages\\numpy\\core\\fromnumeric.py:56: FutureWarning: Series.nonzero() is deprecated and will be removed in a future version.Use Series.to_numpy().nonzero() instead\n",
      "  return getattr(obj, method)(*args, **kwds)\n"
     ]
    },
    {
     "name": "stdout",
     "output_type": "stream",
     "text": [
      "median4\n",
      "[[158.   3.]\n",
      " [ 35.   2.]\n",
      " [  0.   1.]\n",
      " [  0.   1.]]\n",
      "correlation:  0.00047960983209218615 \n",
      "\n",
      "number of features:  3\n"
     ]
    },
    {
     "name": "stderr",
     "output_type": "stream",
     "text": [
      "C:\\ProgramData\\Anaconda3\\lib\\site-packages\\numpy\\core\\fromnumeric.py:56: FutureWarning: Series.nonzero() is deprecated and will be removed in a future version.Use Series.to_numpy().nonzero() instead\n",
      "  return getattr(obj, method)(*args, **kwds)\n"
     ]
    },
    {
     "name": "stdout",
     "output_type": "stream",
     "text": [
      "centroid3\n",
      "[[  0.   2.]\n",
      " [193.   4.]\n",
      " [  0.   1.]]\n",
      "correlation:  2.6648393482563565e-05 \n",
      "\n",
      "Index(['Cricoid_cartilage_volumes', 'Brainstem_volumes', 'Brainstem_tsimdoses',\n",
      "       'cluster_labels'],\n",
      "      dtype='object')\n"
     ]
    },
    {
     "name": "stderr",
     "output_type": "stream",
     "text": [
      "C:\\ProgramData\\Anaconda3\\lib\\site-packages\\numpy\\core\\fromnumeric.py:56: FutureWarning: Series.nonzero() is deprecated and will be removed in a future version.Use Series.to_numpy().nonzero() instead\n",
      "  return getattr(obj, method)(*args, **kwds)\n"
     ]
    }
   ],
   "source": [
    "#our actual experiment, try to find correlations using the boruta method and such\n",
    "for tox_name in toxicities_to_test:\n",
    "    print(tox_name)\n",
    "    toxicity = getattr(db, tox_name) > 0\n",
    "    \n",
    "    #use actual doses to train, and predicted for the clustering \n",
    "    train = db.to_dataframe(candidate_features + ['doses'])\n",
    "    test = db.to_dataframe(candidate_features + ['tsimdoses'])\n",
    "    \n",
    "    #we're going to resample the data, scale it, and apply the boruta method n_sample times\n",
    "    def get_resampled_support(x, y):\n",
    "        x, y = resample(x.values, y)\n",
    "        x = scaler.fit_transform(x)\n",
    "        boruta.fit(x, y)\n",
    "        return boruta.support_, boruta.support_weak_\n",
    "    \n",
    "    #save the boruta support for each trial in a dataframe, scores are % of time the variable has support or weak support\n",
    "    supports = pd.DataFrame(data = np.zeros((2,train.shape[1])), columns = test.columns, index =['support', 'weak_support'])\n",
    "    for n in range(n_samples):\n",
    "        sup, weak_sup = get_resampled_support(train, toxicity)\n",
    "        supports.loc['support'] += sup/n_samples\n",
    "        supports.loc['weak_support'] += weak_sup/n_samples\n",
    "        \n",
    "    #try out a bunch of thresholds on how good the variable is supported vs cluster results\n",
    "    best_correlation = 1\n",
    "    prev_argcount = test.shape[1]\n",
    "    for support_thresh in [.2,.3,.4,.5,.6,.7,.8,.9]:\n",
    "        top_args = np.argwhere(supports.loc['support'] >= support_thresh).ravel()\n",
    "        if len(top_args) < min_features:\n",
    "            break\n",
    "        #check to see that we actually added more features\n",
    "        if len(top_args) == prev_argcount:\n",
    "            continue\n",
    "        prev_argcount = len(top_args)\n",
    "        to_use = test.iloc[:, top_args]\n",
    "        print('number of features: ', len(train.columns[top_args]))\n",
    "        \n",
    "        #we're going to try a bunch of different clusterings and look at the best result\n",
    "        clustering = get_optimal_clustering(scaler.fit_transform(to_use.values), toxicity)\n",
    "        print(clustering[1].method)\n",
    "        print(get_contingency_table(clustering[0], toxicity))\n",
    "        print('correlation: ', clustering[1].correlation,'\\n')\n",
    "        #save the feature set with the best (lowest) correlation\n",
    "        if clustering[1].correlation < best_correlation:\n",
    "            best_correlation = clustering[1].correlation\n",
    "            best_clusters = clustering[0]\n",
    "            best_features = copy(to_use)\n",
    "            n_best_clusters = len(set(clustering[0]))\n",
    "            \n",
    "    #check that we actually got a result\n",
    "    if best_correlation == 1:\n",
    "        print('no good values')\n",
    "        break\n",
    "    best_features['cluster_labels'] = best_clusters\n",
    "    print(best_features.columns)\n",
    "    \n",
    "    if save_root is not None:\n",
    "        best_features.to_csv(save_root\n",
    "                     + 'boruta_features_k='\n",
    "                     + str(n_best_clusters)\n",
    "                     + '_p=' + '{:.3e}'.format(best_correlation)\n",
    "                     + '_toxicity=' + tox_name + '.csv')"
   ]
  },
  {
   "cell_type": "code",
   "execution_count": null,
   "metadata": {},
   "outputs": [],
   "source": []
  }
 ],
 "metadata": {
  "kernelspec": {
   "display_name": "Python 3",
   "language": "python",
   "name": "python3"
  },
  "language_info": {
   "codemirror_mode": {
    "name": "ipython",
    "version": 3
   },
   "file_extension": ".py",
   "mimetype": "text/x-python",
   "name": "python",
   "nbconvert_exporter": "python",
   "pygments_lexer": "ipython3",
   "version": "3.7.3"
  }
 },
 "nbformat": 4,
 "nbformat_minor": 2
}
