{
 "cells": [
  {
   "cell_type": "code",
   "execution_count": 1,
   "metadata": {},
   "outputs": [
    {
     "name": "stderr",
     "output_type": "stream",
     "text": [
      "Using TensorFlow backend.\n"
     ]
    }
   ],
   "source": [
    "from numpy.random import seed\n",
    "seed(1)\n",
    "import numpy as np\n",
    "import pandas as pd\n",
    "import matplotlib.pyplot as plt\n",
    "from analysis import *\n",
    "from collections import namedtuple\n",
    "import Metrics\n",
    "from PatientSet import PatientSet\n",
    "from Constants import Constants\n",
    "from Clustering import *\n",
    "import re\n",
    "\n",
    "#sklearn dependencies\n",
    "from sklearn.metrics import roc_auc_score, adjusted_rand_score\n",
    "from sklearn.utils import resample\n",
    "from sklearn.cluster import FeatureAgglomeration\n",
    "\n",
    "#we get like a million deprication errors for some reason with the external libraries\n",
    "import warnings\n",
    "warnings.filterwarnings(\"ignore\", category=DeprecationWarning)"
   ]
  },
  {
   "cell_type": "code",
   "execution_count": 2,
   "metadata": {},
   "outputs": [
    {
     "name": "stderr",
     "output_type": "stream",
     "text": [
      "D:\\git_repos\\CAMP-RT\\PYTHON\\Patient.py:360: RuntimeWarning: invalid value encountered in true_divide\n",
      "  mean_tumor_distances /= tumor_volume\n",
      "D:\\git_repos\\CAMP-RT\\PYTHON\\Patient.py:361: RuntimeWarning: invalid value encountered in true_divide\n",
      "  tumor_position /= tumor_volume\n"
     ]
    },
    {
     "name": "stdout",
     "output_type": "stream",
     "text": [
      "error reading tumor volume for  10091\n",
      "error reading tumor volume for  10148\n",
      "WARNING:tensorflow:From C:\\ProgramData\\Anaconda3\\lib\\site-packages\\tensorflow\\python\\ops\\control_flow_ops.py:423: colocate_with (from tensorflow.python.framework.ops) is deprecated and will be removed in a future version.\n",
      "Instructions for updating:\n",
      "Colocations handled automatically by placer.\n",
      "WARNING:tensorflow:From C:\\ProgramData\\Anaconda3\\lib\\site-packages\\tensorflow\\python\\ops\\math_ops.py:3066: to_int32 (from tensorflow.python.ops.math_ops) is deprecated and will be removed in a future version.\n",
      "Instructions for updating:\n",
      "Use tf.cast instead.\n",
      "\n",
      "patient data loaded...\n",
      "\n"
     ]
    }
   ],
   "source": [
    "#load in the patientset object that has all the patient info\n",
    "db = PatientSet()\n",
    "\n",
    "#add a bunch of features to the object that we'll want to try\n",
    "#so we can use the db.to_dataframe function to get them all in a nice dataframe with one-hot encoding and labels automatically\n",
    "db.t_volumes = np.array([np.sum([g.volume for g in gtvs]) for gtvs in db.gtvs]).reshape(-1,1)\n",
    "db.bilateral = db.lateralities == 'B'\n",
    "db.total_volumes = db.volumes.sum(axis = 1)\n",
    "db.toxicity = db.feeding_tubes + db.aspiration > 0\n",
    "db.tsimdoses = tsim_prediction(db)"
   ]
  },
  {
   "cell_type": "code",
   "execution_count": 8,
   "metadata": {},
   "outputs": [
    {
     "name": "stdout",
     "output_type": "stream",
     "text": [
      "The autoreload extension is already loaded. To reload it, use:\n",
      "  %reload_ext autoreload\n"
     ]
    }
   ],
   "source": [
    "%load_ext autoreload\n",
    "%autoreload 2\n",
    "from Clustering import *\n",
    "\n",
    "#parameters for the experiments\n",
    "toxicities_to_test = ['toxicity']\n",
    "\n",
    "#features to test the feature selection on.  should be fields in the patientset we have\n",
    "#we don't cluster on these\n",
    "unclusterable_features = ['t_volumes', 'bilateral', 'total_volumes']\n",
    "#we cluster on these (each individually) if feature_clustering is defined,\n",
    "clusterable_features = ['tumor_distances', 'volumes']\n",
    "\n",
    "#features specifically for feature selection vs actually using.  Should either be\n",
    "#some combo of actual and predicted dose for this\n",
    "train_features = ['tsimdoses']\n",
    "test_features = ['tsimdoses']\n",
    "\n",
    "#number of times to resample and doing feature selection\n",
    "#if n = 1, just use the first result\n",
    "n_samples = 1\n",
    "\n",
    "rescale = False\n",
    "df_rescale = lambda d: (d - d.min(axis = 0))/(d.max(axis =0) - d.min(axis=0))\n",
    "\n",
    "#put some bounds on the features to subset\n",
    "min_features = 2\n",
    "\n",
    "#for now just constrain it to one cluster\n",
    "n_clusters = 2\n",
    "selection_clusterer  = FClusterer(n_clusters)\n",
    "cluster_feature_selector = FeatureClusterSelector(\n",
    "    n_samples = n_samples,\n",
    "    clusterer = selection_clusterer)\n",
    "lg_feature_selector = FeatureSelector()"
   ]
  },
  {
   "cell_type": "code",
   "execution_count": 6,
   "metadata": {},
   "outputs": [],
   "source": [
    "train, test = get_train_test_datasets(db, \n",
    "                                      unclusterable_features, \n",
    "                                      clusterable_features, \n",
    "                                      train_features, \n",
    "                                      test_features)"
   ]
  },
  {
   "cell_type": "code",
   "execution_count": 9,
   "metadata": {},
   "outputs": [
    {
     "data": {
      "text/plain": [
       "array([-6.84424679e-01, -2.63033305e-01, -8.28377745e-03, -5.94999771e-03,\n",
       "       -1.08455090e-05, -3.14771006e-05, -1.98120856e-03, -2.83160105e-03,\n",
       "       -7.73888742e-06, -5.41323721e-03, -5.38752248e-05, -7.66234536e-03,\n",
       "       -4.34686532e-05, -3.82926075e-01, -1.85446881e-07, -7.85091124e-02,\n",
       "       -1.77956239e-02, -2.74901224e-07, -1.27759882e-04, -6.02276399e-04,\n",
       "       -2.41224386e-03, -5.85470991e-02, -5.66553235e-07, -1.00000000e+00,\n",
       "       -3.92130261e-08, -1.17068526e-06, -4.76767750e-07, -9.42889940e-05,\n",
       "       -6.13207582e-10, -1.00000000e+00, -1.37392302e-02, -1.70000000e-01,\n",
       "       -3.93058762e-03, -1.00000000e+00, -7.25152782e-03, -1.00000000e+00,\n",
       "       -2.11245609e-02, -1.20012910e-01, -3.15481572e-01, -3.56053660e-03,\n",
       "       -1.00000000e+00, -1.34050749e-01, -2.67028737e-02, -8.05332527e-02,\n",
       "       -1.33602233e-01, -9.88046219e-03, -2.81245087e-02, -5.70156405e-05,\n",
       "       -8.39371395e-02, -1.48848092e-02, -1.56263805e-04, -4.95549825e-02,\n",
       "       -4.24160941e-03, -2.65310308e-03, -4.99538783e-01, -2.08122488e-03,\n",
       "       -1.11320939e-03, -2.73661319e-02, -2.14468207e-04, -1.55572361e-02,\n",
       "       -5.90941751e-02, -1.55572361e-02, -4.93894540e-03, -3.38263968e-02,\n",
       "       -8.61609098e-02, -2.01102599e-01, -1.33602233e-01, -1.00000000e+00,\n",
       "       -1.70000000e-01, -1.41703221e-01, -1.70000000e-01, -2.81909548e-02,\n",
       "       -3.11809045e-01, -8.50127904e-01, -6.11889768e-01, -1.00000000e+00,\n",
       "       -7.48142827e-02, -8.45017301e-01, -1.91816040e-01, -6.78907506e-02,\n",
       "       -8.98587187e-02, -3.46890636e-01, -1.00000000e+00, -1.31874689e-01,\n",
       "       -4.17568031e-01, -3.11809045e-01, -7.05817125e-01, -1.71761700e-01,\n",
       "       -2.42383816e-01, -1.70000000e-01, -5.36214077e-01, -4.68472073e-02,\n",
       "       -1.00000000e+00, -3.11087079e-02, -3.11809045e-01, -1.00000000e+00])"
      ]
     },
     "execution_count": 9,
     "metadata": {},
     "output_type": "execute_result"
    }
   ],
   "source": [
    "cluster_feature_selector.get_importances(train, db.toxicity)"
   ]
  },
  {
   "cell_type": "code",
   "execution_count": null,
   "metadata": {},
   "outputs": [],
   "source": []
  }
 ],
 "metadata": {
  "kernelspec": {
   "display_name": "Python 3",
   "language": "python",
   "name": "python3"
  },
  "language_info": {
   "codemirror_mode": {
    "name": "ipython",
    "version": 3
   },
   "file_extension": ".py",
   "mimetype": "text/x-python",
   "name": "python",
   "nbconvert_exporter": "python",
   "pygments_lexer": "ipython3",
   "version": "3.7.3"
  }
 },
 "nbformat": 4,
 "nbformat_minor": 2
}
